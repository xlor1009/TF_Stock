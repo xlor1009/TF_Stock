{
 "cells": [
  {
   "cell_type": "code",
   "execution_count": 2,
   "metadata": {},
   "outputs": [],
   "source": [
    "import tensorflow as tf \n",
    "import numpy as np\n",
    "import pandas as p\n",
    "from yahoo_fin import stock_info as yf\n",
    "import yahoo_fin.stock_info as si"
   ]
  },
  {
   "cell_type": "code",
   "execution_count": 19,
   "metadata": {},
   "outputs": [
    {
     "name": "stdout",
     "output_type": "stream",
     "text": [
      "Index(['Unnamed: 0', 'As of Date: 1/3/2024Current', '9/30/2023', '6/30/2023',\n",
      "       '3/31/2023', '12/31/2022'],\n",
      "      dtype='object')\n",
      "                   Attribute Current 9/30/2023 6/30/2023 3/31/2023 12/31/2022\n",
      "0      Market Cap (intraday)   2.89T     2.68T     3.05T     2.61T      2.07T\n",
      "1           Enterprise Value   2.94T     2.72T     3.10T     2.67T      2.14T\n",
      "2               Trailing P/E   30.28     28.73     32.88     28.00      21.27\n",
      "3                Forward P/E   28.17     25.77     29.41     27.86      21.28\n",
      "4  PEG Ratio (5 yr expected)    2.23      2.18      2.66      2.79       2.53\n",
      "5          Price/Sales (ttm)    7.66      7.10      8.08      6.89       5.38\n",
      "6           Price/Book (mrq)   46.46     44.41     49.08     45.99      40.62\n",
      "7   Enterprise Value/Revenue    7.66     30.43     37.96     28.14      18.26\n",
      "8    Enterprise Value/EBITDA   22.73     91.94    119.18     85.49      54.93\n",
      "[[30.28, 'As of Date: 1/3/2024Current'], [28.73, '9/30/2023'], [32.88, '6/30/2023'], [28.0, '3/31/2023'], [21.27, '12/31/2022']]\n"
     ]
    },
    {
     "name": "stderr",
     "output_type": "stream",
     "text": [
      "/opt/homebrew/lib/python3.11/site-packages/yahoo_fin/stock_info.py:357: FutureWarning: Passing literal html to 'read_html' is deprecated and will be removed in a future version. To read from a literal string, wrap it in a 'StringIO' object.\n",
      "  tables = pd.read_html(requests.get(stats_site, headers=headers).text)\n"
     ]
    }
   ],
   "source": [
    "aapl = yf.get_stats_valuation(\"aapl\")\n",
    "cols = aapl.columns\n",
    "print(cols)\n",
    "val = aapl.iloc[:,:6]\n",
    "val.columns = [\"Attribute\", \"Current\", cols[2],cols[3],cols[4],cols[5]] \n",
    "print(val)\n",
    "PE_S = [[float(val[val.Attribute.str.contains(\"Trailing P/E\")].iloc[0,i]),cols[i]] for i in range(1,6)]\n",
    "PS_S = [[float(val[val.Attribute.str.contains(\"Price/Sales\")].iloc[0,i]),cols[i]] for i in range(1,6)]\n",
    "PB_S = [[float(val[val.Attribute.str.contains(\"Price/Book\")].iloc[0,i]),cols[i]] for i in range(1,6)]\n",
    "print(PE_S)"
   ]
  }
 ],
 "metadata": {
  "kernelspec": {
   "display_name": "Python 3.11.5 64-bit",
   "language": "python",
   "name": "python3"
  },
  "language_info": {
   "codemirror_mode": {
    "name": "ipython",
    "version": 3
   },
   "file_extension": ".py",
   "mimetype": "text/x-python",
   "name": "python",
   "nbconvert_exporter": "python",
   "pygments_lexer": "ipython3",
   "version": "3.11.5"
  },
  "vscode": {
   "interpreter": {
    "hash": "b0fa6594d8f4cbf19f97940f81e996739fb7646882a419484c72d19e05852a7e"
   }
  }
 },
 "nbformat": 4,
 "nbformat_minor": 2
}
