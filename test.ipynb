{
 "cells": [
  {
   "cell_type": "code",
   "execution_count": 24,
   "metadata": {},
   "outputs": [],
   "source": [
    "import tensorflow as tf \n",
    "import numpy as np\n",
    "import pandas as p\n",
    "from yahoo_fin import stock_info as yf\n",
    "import yahoo_fin.stock_info as si"
   ]
  },
  {
   "cell_type": "code",
   "execution_count": 62,
   "metadata": {},
   "outputs": [
    {
     "name": "stdout",
     "output_type": "stream",
     "text": [
      "                   Attribute Current      a       b      c      d\n",
      "0      Market Cap (intraday)   2.99T  2.68T   3.05T  2.61T  2.07T\n",
      "1           Enterprise Value   3.04T  2.72T   3.10T  2.67T  2.14T\n",
      "2               Trailing P/E   31.41  28.73   32.88  28.00  21.27\n",
      "3                Forward P/E   29.15  25.77   29.41  27.86  21.28\n",
      "4  PEG Ratio (5 yr expected)    2.31   2.18    2.66   2.79   2.53\n",
      "5          Price/Sales (ttm)    7.94   7.10    8.08   6.89   5.38\n",
      "6           Price/Book (mrq)   48.18  44.41   49.08  45.99  40.62\n",
      "7   Enterprise Value/Revenue    7.94  30.43   37.96  28.14  18.26\n",
      "8    Enterprise Value/EBITDA   23.56  91.94  119.18  85.49  54.93\n",
      "32.88\n"
     ]
    },
    {
     "name": "stderr",
     "output_type": "stream",
     "text": [
      "C:\\Users\\xlor1\\AppData\\Local\\Packages\\PythonSoftwareFoundation.Python.3.11_qbz5n2kfra8p0\\LocalCache\\local-packages\\Python311\\site-packages\\yahoo_fin\\stock_info.py:357: FutureWarning: Passing literal html to 'read_html' is deprecated and will be removed in a future version. To read from a literal string, wrap it in a 'StringIO' object.\n",
      "  tables = pd.read_html(requests.get(stats_site, headers=headers).text)\n"
     ]
    }
   ],
   "source": [
    "nflx = yf.get_stats_valuation(\"aapl\")\n",
    "val = nflx.iloc[:,:6]\n",
    "val.columns = [\"Attribute\", \"Current\", \"a\",\"b\",\"c\",\"d\"] \n",
    "print(val)\n",
    "print(\t\n",
    "float(val[val.Attribute.str.contains(\"Trailing P/E\")].iloc[0,3]))"
   ]
  }
 ],
 "metadata": {
  "kernelspec": {
   "display_name": "Python 3",
   "language": "python",
   "name": "python3"
  },
  "language_info": {
   "codemirror_mode": {
    "name": "ipython",
    "version": 3
   },
   "file_extension": ".py",
   "mimetype": "text/x-python",
   "name": "python",
   "nbconvert_exporter": "python",
   "pygments_lexer": "ipython3",
   "version": "3.11.7"
  }
 },
 "nbformat": 4,
 "nbformat_minor": 2
}
