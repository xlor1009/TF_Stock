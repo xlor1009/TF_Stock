{
 "cells": [
  {
   "cell_type": "markdown",
   "metadata": {},
   "source": [
    "training a loan eligibily  model."
   ]
  },
  {
   "cell_type": "code",
   "execution_count": 1,
   "metadata": {},
   "outputs": [],
   "source": [
    "import sklearn\n",
    "import numpy as np\n",
    "import pandas as pd\n",
    "from sklearn.neighbors import KNeighborsClassifier \n",
    "from sklearn import metrics "
   ]
  },
  {
   "cell_type": "code",
   "execution_count": 35,
   "metadata": {},
   "outputs": [
    {
     "name": "stdout",
     "output_type": "stream",
     "text": [
      "     LoanAmount  Loan_Amount_Term\n",
      "0           NaN             360.0\n",
      "1         128.0             360.0\n",
      "2          66.0             360.0\n",
      "3         120.0             360.0\n",
      "4         141.0             360.0\n",
      "..          ...               ...\n",
      "609        71.0             360.0\n",
      "610        40.0             180.0\n",
      "611       253.0             360.0\n",
      "612       187.0             360.0\n",
      "613       133.0             360.0\n",
      "\n",
      "[614 rows x 2 columns]\n"
     ]
    },
    {
     "data": {
      "text/plain": [
       "0      360.0\n",
       "1      360.0\n",
       "2      360.0\n",
       "3      360.0\n",
       "4      360.0\n",
       "       ...  \n",
       "362    360.0\n",
       "363    360.0\n",
       "364    360.0\n",
       "365    360.0\n",
       "366    180.0\n",
       "Name: Loan_Amount_Term, Length: 367, dtype: float64"
      ]
     },
     "execution_count": 35,
     "metadata": {},
     "output_type": "execute_result"
    }
   ],
   "source": [
    "train_input_file = \"D:\\\\bye\\\\TF_Stock\\\\loan-train.csv\"\n",
    "test_input_file = \"D:\\\\bye\\TF_Stock\\loan-test.csv\"\n",
    "\n",
    "# comma delimited is the default\n",
    "train = pd.read_csv(train_input_file, header = 0)\n",
    "train_target = train[['LoanAmount','Loan_Amount_Term']]\n",
    "train.pop(\"LoanAmount\")\n",
    "train.pop(\"Loan_Amount_Term\")\n",
    "print(train_target)\n",
    "test = pd.read_csv(test_input_file, header = 0)\n",
    "test_target = test[['LoanAmount','Loan_Amount_Term']]\n",
    "test.pop(\"LoanAmount\")\n",
    "test.pop(\"Loan_Amount_Term\")"
   ]
  }
 ],
 "metadata": {
  "kernelspec": {
   "display_name": "Python 3",
   "language": "python",
   "name": "python3"
  },
  "language_info": {
   "codemirror_mode": {
    "name": "ipython",
    "version": 3
   },
   "file_extension": ".py",
   "mimetype": "text/x-python",
   "name": "python",
   "nbconvert_exporter": "python",
   "pygments_lexer": "ipython3",
   "version": "3.11.7"
  }
 },
 "nbformat": 4,
 "nbformat_minor": 2
}
